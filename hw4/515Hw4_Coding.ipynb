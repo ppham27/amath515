{
 "cells": [
  {
   "cell_type": "markdown",
   "metadata": {},
   "source": [
    "# AMATH 515 Homework 4\n",
    "\n",
    "**Due Date: 03/18/2020**\n",
    "\n",
    "*Homework Instructions*: Please follow the order of this notebook and fill in the code where commented as `TODO`."
   ]
  },
  {
   "cell_type": "code",
   "execution_count": 1,
   "metadata": {},
   "outputs": [],
   "source": [
    "# TODO: Put your name and UW ID here (for homework grading purposes)\n",
    "UW_ID = \"1772371\"\n",
    "FIRST_NAME = \"Philip\"\n",
    "LAST_NAME = \"Pham\""
   ]
  },
  {
   "cell_type": "code",
   "execution_count": 2,
   "metadata": {},
   "outputs": [],
   "source": [
    "import numpy as np\n",
    "import matplotlib.pyplot as plt\n",
    "\n",
    "np.set_printoptions(suppress=True)"
   ]
  },
  {
   "cell_type": "markdown",
   "metadata": {},
   "source": [
    "## Please complete the code in `solvers.py`"
   ]
  },
  {
   "cell_type": "code",
   "execution_count": 3,
   "metadata": {},
   "outputs": [],
   "source": [
    "from solvers import *"
   ]
  },
  {
   "cell_type": "markdown",
   "metadata": {},
   "source": [
    "## Interior Point Method\n",
    "\n",
    "Consider the problem that minimize a quadratic objective over a box constraint,\n",
    "\n",
    "$$\n",
    "\\min_x~\\frac{1}{2}\\|Ax - b\\|^2, \\quad \\text{s.t.}~l \\le x \\le u\n",
    "$$\n",
    "\n",
    "* providing $l$ and $u$, convert the constraint $l \\le x \\le u$ to the form of $Cx \\le d$.\n",
    "* use the test case to test the code"
   ]
  },
  {
   "cell_type": "code",
   "execution_count": 4,
   "metadata": {},
   "outputs": [],
   "source": [
    "np.random.seed(123)\n",
    "m = 20\n",
    "n = 10\n",
    "l = np.zeros(n)\n",
    "u = np.ones(n)\n",
    "#\n",
    "A  = np.random.randn(m, n)\n",
    "xt = -np.random.rand(n)\n",
    "b  = A.dot(xt)"
   ]
  },
  {
   "cell_type": "code",
   "execution_count": 5,
   "metadata": {},
   "outputs": [],
   "source": [
    "C = np.concatenate((np.eye(n), -np.eye(n)), axis=0)\n",
    "d = np.concatenate((u, -l))"
   ]
  },
  {
   "cell_type": "code",
   "execution_count": 6,
   "metadata": {},
   "outputs": [],
   "source": [
    "x0_ip = 0.5*(l + u)\n",
    "x_ip, obj_his_ip, err_his_ip, exit_flag_ip = optimizeWithIP(x0_ip, A, b, C, d)"
   ]
  },
  {
   "cell_type": "code",
   "execution_count": 7,
   "metadata": {},
   "outputs": [
    {
     "data": {
      "text/plain": [
       "Text(0.5, 0.98, 'Interior Point on Quadratic over Box')"
      ]
     },
     "execution_count": 7,
     "metadata": {},
     "output_type": "execute_result"
    },
    {
     "data": {
      "image/png": "[encoded data removed]",
      "text/plain": [
       "<Figure size 864x360 with 2 Axes>"
      ]
     },
     "metadata": {
      "needs_background": "light"
     },
     "output_type": "display_data"
    }
   ],
   "source": [
    "# plot result\n",
    "fig, ax = plt.subplots(1, 2, figsize=(12,5))\n",
    "ax[0].plot(obj_his_ip)\n",
    "ax[0].set_title('function value')\n",
    "ax[1].semilogy(err_his_ip)\n",
    "ax[1].set_title('optimality condition')\n",
    "fig.suptitle('Interior Point on Quadratic over Box')"
   ]
  },
  {
   "cell_type": "markdown",
   "metadata": {},
   "source": [
    "## Chambolle-Pock Algorithm\n",
    "\n",
    "Consider problem,\n",
    "$$\n",
    "\\min_x~\\|Ax - b\\|_1 + \\|x\\|_1\n",
    "$$\n",
    "\n",
    "* relate this problem to our general template, namely figure out what are $c$, $h$ and $k$.\n",
    "* solve the problem using Chambolle-Pock Algorithm"
   ]
  },
  {
   "cell_type": "code",
   "execution_count": null,
   "metadata": {},
   "outputs": [],
   "source": [
    "np.random.seed(123)\n",
    "m = 100\n",
    "n = 200\n",
    "k = 10\n",
    "#\n",
    "A  = np.random.randn(m, n)\n",
    "xt = np.zeros(n)\n",
    "xt[np.random.choice(n, k, replace=False)] = np.random.choice([-1.0, 1.0], k)\n",
    "b  = A.dot(xt)\n",
    "#\n",
    "lam = 0.1"
   ]
  },
  {
   "cell_type": "code",
   "execution_count": null,
   "metadata": {},
   "outputs": [],
   "source": [
    "# TODO: define c and function h, k, prox_ch, prox_k\n",
    "c = ?\n",
    "#\n",
    "def h(x):\n",
    "    ?\n",
    "def k(x):\n",
    "    ?\n",
    "#\n",
    "def prox_ch(z, t):\n",
    "    ?\n",
    "def prox_k(z, t):\n",
    "    ?"
   ]
  },
  {
   "cell_type": "code",
   "execution_count": null,
   "metadata": {},
   "outputs": [],
   "source": [
    "x0_cp = np.zeros(n)\n",
    "x_cp, obj_his_cp, err_his_cp, exit_flag_cp = optimizeWithCP(x0_cp, A, b, c, h, k, prox_ch, prox_k)"
   ]
  },
  {
   "cell_type": "code",
   "execution_count": null,
   "metadata": {},
   "outputs": [],
   "source": [
    "# plot result\n",
    "fig, ax = plt.subplots(1, 2, figsize=(12,5))\n",
    "ax[0].plot(obj_his_cp)\n",
    "ax[0].set_title('function value')\n",
    "ax[1].semilogy(err_his_cp)\n",
    "ax[1].set_title('optimality condition')\n",
    "fig.suptitle('Chambolle-Pock on LAD-Lasso')"
   ]
  },
  {
   "cell_type": "code",
   "execution_count": null,
   "metadata": {},
   "outputs": [],
   "source": [
    "plt.plot(xt)\n",
    "plt.plot(x_cp, '.')\n",
    "plt.title('signal recovery')"
   ]
  },
  {
   "cell_type": "code",
   "execution_count": null,
   "metadata": {},
   "outputs": [],
   "source": []
  },
  {
   "cell_type": "code",
   "execution_count": 367,
   "metadata": {},
   "outputs": [
    {
     "name": "stdout",
     "output_type": "stream",
     "text": [
      "     pcost       dcost       gap    pres   dres\n",
      " 0: -1.0425e+01 -2.5048e+01  8e+01  2e+00  3e-16\n",
      " 1: -8.9073e+00 -1.6883e+01  2e+01  4e-01  1e-16\n",
      " 2: -5.0321e+00 -8.2534e+00  3e+00  2e-16  9e-16\n",
      " 3: -5.8621e+00 -6.0432e+00  2e-01  2e-16  2e-16\n",
      " 4: -5.9174e+00 -5.9245e+00  7e-03  2e-16  1e-16\n",
      " 5: -5.9202e+00 -5.9203e+00  1e-04  1e-16  3e-16\n",
      " 6: -5.9202e+00 -5.9202e+00  1e-06  1e-16  3e-16\n",
      "Optimal solution found.\n"
     ]
    },
    {
     "data": {
      "text/plain": [
       "(array([ 0.28245772, -0.30417813, -0.8673709 , -0.38182256, -0.26928121,\n",
       "         0.27006303,  0.50684133,  0.18961195,  0.25041468,  0.08532932]),\n",
       " array([0.33288157, 0.00000001, 0.        , 0.        , 0.00000004,\n",
       "        0.62696853, 0.3870254 , 0.09979194, 0.00000001, 0.02150179]),\n",
       " array([0.33288188, 0.        , 0.        , 0.        , 0.00000093,\n",
       "        0.6269691 , 0.38702532, 0.09979244, 0.        , 0.02150294]))"
      ]
     },
     "execution_count": 367,
     "metadata": {},
     "output_type": "execute_result"
    }
   ],
   "source": [
    "m = 20\n",
    "n = 10\n",
    "l = np.zeros(n)\n",
    "u = np.ones(n)\n",
    "#\n",
    "A  = np.random.randn(m, n)\n",
    "xt = 2.*(np.random.rand(n) - 0.5)\n",
    "b  = A.dot(xt)\n",
    "\n",
    "C = np.concatenate((np.eye(n), -np.eye(n)), axis=0)\n",
    "d = np.concatenate((u, -l))\n",
    "\n",
    "import cvxopt\n",
    "import sys\n",
    "import importlib\n",
    "importlib.reload(sys.modules['solvers'])\n",
    "from solvers import *\n",
    "\n",
    "x0_ip = 0.5*(l + u)\n",
    "x_ip, obj_his_ip, err_his_ip, exit_flag_ip = optimizeWithIP(x0_ip, A, b, C, d)\n",
    "\n",
    "\n",
    "cvx_sol = cvxopt.solvers.qp(P=cvxopt.matrix(A.T.dot(A)), q=cvxopt.matrix(-b.dot(A)),\n",
    "                            G=cvxopt.matrix(C), h=cvxopt.matrix(d))\n",
    "\n",
    "xt, x_ip, np.squeeze(cvx_sol['x'])"
   ]
  }
 ],
 "metadata": {
  "kernelspec": {
   "display_name": "Python 3",
   "language": "python",
   "name": "python3"
  },
  "language_info": {
   "codemirror_mode": {
    "name": "ipython",
    "version": 3
   },
   "file_extension": ".py",
   "mimetype": "text/x-python",
   "name": "python",
   "nbconvert_exporter": "python",
   "pygments_lexer": "ipython3",
   "version": "3.7.3"
  }
 },
 "nbformat": 4,
 "nbformat_minor": 2
}
