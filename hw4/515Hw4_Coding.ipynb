{
 "cells": [
  {
   "cell_type": "markdown",
   "metadata": {},
   "source": [
    "# AMATH 515 Homework 4\n",
    "\n",
    "**Due Date: 03/18/2020**\n",
    "\n",
    "*Homework Instructions*: Please follow the order of this notebook and fill in the code where commented as `TODO`."
   ]
  },
  {
   "cell_type": "code",
   "execution_count": null,
   "metadata": {},
   "outputs": [],
   "source": [
    "# TODO: Put your name and UW ID here (for homework grading purposes)\n",
    "UW_ID = \"\"\n",
    "FIRST_NAME = \"\"\n",
    "LAST_NAME = \"\""
   ]
  },
  {
   "cell_type": "code",
   "execution_count": null,
   "metadata": {},
   "outputs": [],
   "source": [
    "import numpy as np\n",
    "import matplotlib.pyplot as plt"
   ]
  },
  {
   "cell_type": "markdown",
   "metadata": {},
   "source": [
    "## Please complete the code in `solvers.py`"
   ]
  },
  {
   "cell_type": "code",
   "execution_count": null,
   "metadata": {},
   "outputs": [],
   "source": [
    "from solvers import *"
   ]
  },
  {
   "cell_type": "markdown",
   "metadata": {},
   "source": [
    "## Interior Point Method\n",
    "\n",
    "Consider the problem that minimize a quadratic objective over a box constraint,\n",
    "\n",
    "$$\n",
    "\\min_x~\\frac{1}{2}\\|Ax - b\\|^2, \\quad \\text{s.t.}~l \\le x \\le u\n",
    "$$\n",
    "\n",
    "* providing $l$ and $u$, convert the constraint $l \\le x \\le u$ to the form of $Cx \\le d$.\n",
    "* use the test case to test the code"
   ]
  },
  {
   "cell_type": "code",
   "execution_count": null,
   "metadata": {},
   "outputs": [],
   "source": [
    "np.random.seed(123)\n",
    "m = 20\n",
    "n = 10\n",
    "l = np.zeros(n)\n",
    "u = np.ones(n)\n",
    "#\n",
    "A  = np.random.randn(m, n)\n",
    "xt = -np.random.rand(n)\n",
    "b  = A.dot(xt)"
   ]
  },
  {
   "cell_type": "code",
   "execution_count": null,
   "metadata": {},
   "outputs": [],
   "source": [
    "# TODO: create C and d used for the solver\n",
    "C = ?\n",
    "d = ?"
   ]
  },
  {
   "cell_type": "code",
   "execution_count": null,
   "metadata": {},
   "outputs": [],
   "source": [
    "x0_ip = 0.5*(l + u)\n",
    "x_ip, obj_his_ip, err_his_ip, exit_flag_ip = optimizeWithIP(x0_ip, A, b, C, d)"
   ]
  },
  {
   "cell_type": "code",
   "execution_count": null,
   "metadata": {},
   "outputs": [],
   "source": [
    "# plot result\n",
    "fig, ax = plt.subplots(1, 2, figsize=(12,5))\n",
    "ax[0].plot(obj_his_ip)\n",
    "ax[0].set_title('function value')\n",
    "ax[1].semilogy(err_his_ip)\n",
    "ax[1].set_title('optimality condition')\n",
    "fig.suptitle('Interior Point on Quadratic over Box')"
   ]
  },
  {
   "cell_type": "markdown",
   "metadata": {},
   "source": [
    "## Chambolle-Pock Algorithm\n",
    "\n",
    "Consider problem,\n",
    "$$\n",
    "\\min_x~\\|Ax - b\\|_1 + \\|x\\|_1\n",
    "$$\n",
    "\n",
    "* relate this problem to our general template, namely figure out what are $c$, $h$ and $k$.\n",
    "* solve the problem using Chambolle-Pock Algorithm"
   ]
  },
  {
   "cell_type": "code",
   "execution_count": null,
   "metadata": {},
   "outputs": [],
   "source": [
    "np.random.seed(123)\n",
    "m = 100\n",
    "n = 200\n",
    "k = 10\n",
    "#\n",
    "A  = np.random.randn(m, n)\n",
    "xt = np.zeros(n)\n",
    "xt[np.random.choice(n, k, replace=False)] = np.random.choice([-1.0, 1.0], k)\n",
    "b  = A.dot(xt)\n",
    "#\n",
    "lam = 0.1"
   ]
  },
  {
   "cell_type": "code",
   "execution_count": null,
   "metadata": {},
   "outputs": [],
   "source": [
    "# TODO: define c and function h, k, prox_ch, prox_k\n",
    "c = ?\n",
    "#\n",
    "def h(x):\n",
    "    ?\n",
    "def k(x):\n",
    "    ?\n",
    "#\n",
    "def prox_ch(z, t):\n",
    "    ?\n",
    "def prox_k(z, t):\n",
    "    ?"
   ]
  },
  {
   "cell_type": "code",
   "execution_count": null,
   "metadata": {},
   "outputs": [],
   "source": [
    "x0_cp = np.zeros(n)\n",
    "x_cp, obj_his_cp, err_his_cp, exit_flag_cp = optimizeWithCP(x0_cp, A, b, c, h, k, prox_ch, prox_k)"
   ]
  },
  {
   "cell_type": "code",
   "execution_count": null,
   "metadata": {},
   "outputs": [],
   "source": [
    "# plot result\n",
    "fig, ax = plt.subplots(1, 2, figsize=(12,5))\n",
    "ax[0].plot(obj_his_cp)\n",
    "ax[0].set_title('function value')\n",
    "ax[1].semilogy(err_his_cp)\n",
    "ax[1].set_title('optimality condition')\n",
    "fig.suptitle('Chambolle-Pock on LAD-Lasso')"
   ]
  },
  {
   "cell_type": "code",
   "execution_count": null,
   "metadata": {},
   "outputs": [],
   "source": [
    "plt.plot(xt)\n",
    "plt.plot(x_cp, '.')\n",
    "plt.title('signal recovery')"
   ]
  },
  {
   "cell_type": "code",
   "execution_count": null,
   "metadata": {},
   "outputs": [],
   "source": []
  }
 ],
 "metadata": {
  "kernelspec": {
   "display_name": "Python 3",
   "language": "python",
   "name": "python3"
  },
  "language_info": {
   "codemirror_mode": {
    "name": "ipython",
    "version": 3
   },
   "file_extension": ".py",
   "mimetype": "text/x-python",
   "name": "python",
   "nbconvert_exporter": "python",
   "pygments_lexer": "ipython3",
   "version": "3.7.5"
  }
 },
 "nbformat": 4,
 "nbformat_minor": 2
}
