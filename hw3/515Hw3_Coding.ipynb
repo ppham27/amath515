{
 "cells": [
  {
   "cell_type": "markdown",
   "metadata": {},
   "source": [
    "# AMATH 515 Homework 3\n",
    "\n",
    "**Due Date: 03/09/2020**\n",
    "\n",
    "*Homework Instruction*: Please follow order of this notebook and fill in the codes where commented as `TODO`."
   ]
  },
  {
   "cell_type": "code",
   "execution_count": null,
   "metadata": {},
   "outputs": [],
   "source": [
    "import numpy as np\n",
    "import matplotlib.pyplot as plt"
   ]
  },
  {
   "cell_type": "markdown",
   "metadata": {},
   "source": [
    "## Please complete the code in `proxes.py`"
   ]
  },
  {
   "cell_type": "code",
   "execution_count": null,
   "metadata": {},
   "outputs": [],
   "source": [
    "import sys\n",
    "sys.path.append('./')\n",
    "from proxes import *"
   ]
  },
  {
   "cell_type": "markdown",
   "metadata": {},
   "source": [
    "## Test cases"
   ]
  },
  {
   "cell_type": "code",
   "execution_count": null,
   "metadata": {},
   "outputs": [],
   "source": [
    "np.random.seed(124)\n",
    "m = 5\n",
    "n = 2\n",
    "k = 1\n",
    "z = np.random.randn(m, n)\n",
    "x = np.zeros((m, n))"
   ]
  },
  {
   "cell_type": "code",
   "execution_count": null,
   "metadata": {},
   "outputs": [],
   "source": [
    "for i in range(m):\n",
    "    x[i] = prox_csimplex(z[i], k)"
   ]
  },
  {
   "cell_type": "code",
   "execution_count": null,
   "metadata": {},
   "outputs": [],
   "source": [
    "print(x)"
   ]
  },
  {
   "cell_type": "code",
   "execution_count": null,
   "metadata": {},
   "outputs": [],
   "source": [
    "plt.clf()\n",
    "plt.arrow(-0.5,  0.0,  2.0,  0.0, head_width=0.1)\n",
    "plt.arrow( 0.0, -0.5,  0.0,  2.0, head_width=0.1)\n",
    "plt.plot([0.0, 1.0], [1.0, 0.0], '-k')\n",
    "for i in range(m):\n",
    "    plt.plot([z[i][0], x[i][0]], [z[i][1], x[i][1]], 'o--')\n",
    "plt.axis('equal')"
   ]
  },
  {
   "cell_type": "code",
   "execution_count": null,
   "metadata": {},
   "outputs": [],
   "source": []
  }
 ],
 "metadata": {
  "kernelspec": {
   "display_name": "Python 3",
   "language": "python",
   "name": "python3"
  },
  "language_info": {
   "codemirror_mode": {
    "name": "ipython",
    "version": 3
   },
   "file_extension": ".py",
   "mimetype": "text/x-python",
   "name": "python",
   "nbconvert_exporter": "python",
   "pygments_lexer": "ipython3",
   "version": "3.7.5"
  }
 },
 "nbformat": 4,
 "nbformat_minor": 2
}
